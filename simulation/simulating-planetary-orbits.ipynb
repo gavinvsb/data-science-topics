{
  "cells": [
    {
      "cell_type": "markdown",
      "id": "26a58c05",
      "metadata": {
        "id": "26a58c05"
      },
      "source": [
        "# Simulating Planetary Orbits"
      ]
    },
    {
      "cell_type": "markdown",
      "id": "9bf30291",
      "metadata": {
        "id": "9bf30291"
      },
      "source": [
        "\n",
        "The provided Python code simulates the gravitational interactions between three celestial bodies: the Sun, Earth, and Venus. The theoretical approach used in this code is based on Newton's Law of Universal Gravitation and classical mechanics. Specifically, it employs the principles of gravitational attraction and motion to calculate the positions and velocities of the celestial bodies over time.\n",
        "\n",
        "### Newton's Law of Universal Gravitation\n",
        "This law states that every mass attracts every other mass in the universe with a force that is directly proportional to the product of their masses and inversely proportional to the square of the distance between their centers. The force, $F$, between two bodies can be expressed as:\n",
        "\n",
        "$F = G \\frac{m_1m_2}{d^2}$\n",
        "\n",
        "where:\n",
        "- $F$ is the force (Newtons)\n",
        "- $G$ is the gravitational constant (SI Units: $6.67428 \\times 10^{-11} N(m/kg)^2$)\n",
        "- ${m_1}$ and ${m_2}$ are the masses of the two objects (kilograms)\n",
        "- $d$ is the distance between the two objects (meters)\n",
        "\n",
        "Using this equation, Newton determined a formula for calculating how long it took an object to complete an orbit around a central mass. However, when dealing with three or more objects, it’s generally not possible to find a tidy formula to calculate what the three bodies will do.\n",
        "\n",
        "Instead, such problems are tackled by numeric integration, a brute-force approach where you take all the object positions and velocities at time T, calculate the forces they exert on each other, update the velocities, and calculate the new positions at time T+\\epsilon. Then you repeat this in a loop, stepping forward through time, and output or plot the results.\n",
        "\n",
        "### Classical Mechanics\n",
        "The simulation uses basic principles of motion to update the positions and velocities of the bodies over time based on the gravitational forces calculated from the previous step. The motion is computed using the equations:\n",
        "\n",
        "$v=v+a⋅Δt$\n",
        "\n",
        "$p=p+v⋅Δt$\n",
        "\n",
        "where:\n",
        "- $v$ is velocity\n",
        "- $a$ is acceleration (derived from force/mass)\n",
        "- $p$ is position\n",
        "- $Δt$ is the time step"
      ]
    },
    {
      "cell_type": "markdown",
      "id": "99499619",
      "metadata": {
        "id": "99499619"
      },
      "source": [
        "# Approach"
      ]
    },
    {
      "cell_type": "markdown",
      "id": "7e229383",
      "metadata": {
        "id": "7e229383"
      },
      "source": [
        "To implement this in Python, we’ll create a `Body` class that will have additional attributes:\n",
        "\n",
        "- $m$ is mass for the object’s mass\n",
        "- $v_x$ and $v_y$ are for its velocity\n",
        "- $p_x$ and $p_y$ are for its position.\n",
        "\n",
        "Note that the `Body` class accounts for attraction, which will take another Body instance and return the $x$ and $y$ components of the force exerted by the other body. We will also provide a graphical display of the results.\n",
        "\n",
        "The system described in the code consists of the Sun, Earth, and Venus, so three `Body` instances are created for each body.\n",
        "\n",
        "The time step chosen is one day, which particularly works well for our Sun, Earth, and Venus example. When you run the program, you can see how long it takes for the plot to complete an entire orbit. For Earth it’s the expected 365 days, and for Venus it’s 224 days."
      ]
    },
    {
      "cell_type": "markdown",
      "id": "e66bef34",
      "metadata": {
        "id": "e66bef34"
      },
      "source": [
        "# Solution"
      ]
    },
    {
      "cell_type": "code",
      "execution_count": 53,
      "id": "db84661f",
      "metadata": {
        "collapsed": true,
        "id": "db84661f",
        "outputId": "dc40ada7-2993-4c6b-a043-f382d8346d37",
        "colab": {
          "base_uri": "https://localhost:8080/"
        }
      },
      "outputs": [
        {
          "output_type": "stream",
          "name": "stdout",
          "text": [
            "Requirement already satisfied: matplotlib in /usr/local/lib/python3.10/dist-packages (3.7.1)\n",
            "Requirement already satisfied: numpy in /usr/local/lib/python3.10/dist-packages (1.26.4)\n",
            "Requirement already satisfied: contourpy>=1.0.1 in /usr/local/lib/python3.10/dist-packages (from matplotlib) (1.3.0)\n",
            "Requirement already satisfied: cycler>=0.10 in /usr/local/lib/python3.10/dist-packages (from matplotlib) (0.12.1)\n",
            "Requirement already satisfied: fonttools>=4.22.0 in /usr/local/lib/python3.10/dist-packages (from matplotlib) (4.54.1)\n",
            "Requirement already satisfied: kiwisolver>=1.0.1 in /usr/local/lib/python3.10/dist-packages (from matplotlib) (1.4.7)\n",
            "Requirement already satisfied: packaging>=20.0 in /usr/local/lib/python3.10/dist-packages (from matplotlib) (24.1)\n",
            "Requirement already satisfied: pillow>=6.2.0 in /usr/local/lib/python3.10/dist-packages (from matplotlib) (10.4.0)\n",
            "Requirement already satisfied: pyparsing>=2.3.1 in /usr/local/lib/python3.10/dist-packages (from matplotlib) (3.2.0)\n",
            "Requirement already satisfied: python-dateutil>=2.7 in /usr/local/lib/python3.10/dist-packages (from matplotlib) (2.8.2)\n",
            "Requirement already satisfied: six>=1.5 in /usr/local/lib/python3.10/dist-packages (from python-dateutil>=2.7->matplotlib) (1.16.0)\n"
          ]
        }
      ],
      "source": [
        "# Import Packages\n",
        "!pip install matplotlib numpy\n",
        "import math\n",
        "import numpy as np\n",
        "import matplotlib.pyplot as plt\n",
        "import matplotlib.animation as animation"
      ]
    },
    {
      "cell_type": "code",
      "execution_count": 55,
      "id": "015cfb6f",
      "metadata": {
        "id": "015cfb6f"
      },
      "outputs": [],
      "source": [
        "# The gravitational constant G\n",
        "G = 6.67428e-11\n",
        "\n",
        "# Assumed scale: 100 pixels = 1AU.\n",
        "AU = (149.6e6 * 1000)     # 149.6 million km, in meters.\n",
        "SCALE = 250 / AU"
      ]
    },
    {
      "cell_type": "code",
      "execution_count": 56,
      "id": "6c1a96a8",
      "metadata": {
        "id": "6c1a96a8"
      },
      "outputs": [],
      "source": [
        "class Body:\n",
        "    \"\"\"A class representing a planetary body with mass, position, and velocity.\"\"\"\n",
        "    def __init__(self, name, mass, px, py, vx, vy, color):\n",
        "        self.name = name\n",
        "        self.mass = mass\n",
        "        self.px = px\n",
        "        self.py = py\n",
        "        self.vx = vx\n",
        "        self.vy = vy\n",
        "        self.color = color\n",
        "        self.positions = []  # Store positions over time for plotting.\n",
        "\n",
        "    def attraction(self, other):\n",
        "        \"\"\"Calculate the force components exerted by another body.\"\"\"\n",
        "        dx = other.px - self.px\n",
        "        dy = other.py - self.py\n",
        "        d = math.sqrt(dx**2 + dy**2)\n",
        "\n",
        "        if d == 0:\n",
        "            raise ValueError(f\"Collision detected between {self.name} and {other.name}!\")\n",
        "\n",
        "        force = G * self.mass * other.mass / d**2\n",
        "        theta = math.atan2(dy, dx)\n",
        "        fx = math.cos(theta) * force\n",
        "        fy = math.sin(theta) * force\n",
        "        return fx, fy\n",
        "\n",
        "def update_velocities_and_positions(bodies, timestep):\n",
        "    \"\"\"Update velocities and positions of all bodies over one timestep.\"\"\"\n",
        "    forces = {body: (0.0, 0.0) for body in bodies}\n",
        "\n",
        "    # Calculate net forces on each body.\n",
        "    for body in bodies:\n",
        "        for other in bodies:\n",
        "            if body is not other:\n",
        "                fx, fy = body.attraction(other)\n",
        "                forces[body] = (forces[body][0] + fx, forces[body][1] + fy)\n",
        "\n",
        "    # Update velocities and positions based on forces.\n",
        "    for body in bodies:\n",
        "        fx, fy = forces[body]\n",
        "        body.vx += fx / body.mass * timestep\n",
        "        body.vy += fy / body.mass * timestep\n",
        "\n",
        "        body.px += body.vx * timestep\n",
        "        body.py += body.vy * timestep\n",
        "\n",
        "        # Store the new position for plotting.\n",
        "        body.positions.append((body.px * SCALE, body.py * SCALE))\n",
        "\n",
        "def simulate(bodies, days):\n",
        "    \"\"\"Run the simulation for a specified number of days.\"\"\"\n",
        "    timestep = 86400  # seconds in a day\n",
        "    for day in range(days):\n",
        "        update_velocities_and_positions(bodies, timestep)"
      ]
    },
    {
      "cell_type": "code",
      "execution_count": 57,
      "id": "24b832a5",
      "metadata": {
        "id": "24b832a5"
      },
      "outputs": [],
      "source": [
        "# Create planetary bodies\n",
        "sun = Body('Sun', 1.98892e30, 0, 0, 0, 0, 'yellow')\n",
        "earth = Body('Earth', 5.9742e24, -1 * AU, 0, 0, 29.783e3, 'blue')\n",
        "venus = Body('Venus', 4.8685e24, 0.723 * AU, 0, 0, -35.02e3, 'red')\n",
        "# Venus parameters taken from\n",
        "# http://nssdc.gsfc.nasa.gov/planetary/factsheet/venusfact.html"
      ]
    },
    {
      "cell_type": "code",
      "execution_count": 58,
      "id": "b1c06da0",
      "metadata": {
        "id": "b1c06da0"
      },
      "outputs": [],
      "source": [
        "# Run the simulation for 365 days.\n",
        "simulate([sun, earth, venus], days=365)"
      ]
    },
    {
      "cell_type": "code",
      "execution_count": 59,
      "id": "2452d289",
      "metadata": {
        "scrolled": true,
        "id": "2452d289",
        "outputId": "30312467-56e7-4d26-96c5-5cd3f7774ba0",
        "colab": {
          "base_uri": "https://localhost:8080/",
          "height": 974
        }
      },
      "outputs": [
        {
          "output_type": "stream",
          "name": "stderr",
          "text": [
            "<ipython-input-59-a0be3a32effb>:15: MatplotlibDeprecationWarning: Setting data with a non sequence type is deprecated since 3.7 and will be remove two minor releases later\n",
            "  sun_dot.set_data(sun.positions[frame][0], sun.positions[frame][1])\n",
            "<ipython-input-59-a0be3a32effb>:16: MatplotlibDeprecationWarning: Setting data with a non sequence type is deprecated since 3.7 and will be remove two minor releases later\n",
            "  earth_dot.set_data(earth.positions[frame][0], earth.positions[frame][1])\n",
            "<ipython-input-59-a0be3a32effb>:17: MatplotlibDeprecationWarning: Setting data with a non sequence type is deprecated since 3.7 and will be remove two minor releases later\n",
            "  venus_dot.set_data(venus.positions[frame][0], venus.positions[frame][1])\n"
          ]
        },
        {
          "output_type": "display_data",
          "data": {
            "text/plain": [
              "<Figure size 1000x1000 with 1 Axes>"
            ],
            "image/png": "[encoded data removed]"
          },
          "metadata": {}
        }
      ],
      "source": [
        "# Set up the plot\n",
        "fig, ax = plt.subplots(figsize=(10, 10))\n",
        "ax.set_xlim(-1.5 * SCALE * AU, 1.5 * SCALE * AU)\n",
        "ax.set_ylim(-1.5 * SCALE * AU, 1.5 * SCALE * AU)\n",
        "ax.set_aspect('equal')\n",
        "ax.set_facecolor('black')\n",
        "\n",
        "# Plot the initial positions of the bodies\n",
        "sun_dot, = ax.plot([], [], 'o', color=sun.color, markersize=12, label=sun.name)\n",
        "earth_dot, = ax.plot([], [], 'o', color=earth.color, markersize=8, label=earth.name)\n",
        "venus_dot, = ax.plot([], [], 'o', color=venus.color, markersize=8, label=venus.name)\n",
        "\n",
        "# Animation update function\n",
        "def update(frame):\n",
        "    sun_dot.set_data(sun.positions[frame][0], sun.positions[frame][1])\n",
        "    earth_dot.set_data(earth.positions[frame][0], earth.positions[frame][1])\n",
        "    venus_dot.set_data(venus.positions[frame][0], venus.positions[frame][1])\n",
        "    return sun_dot, earth_dot, venus_dot\n",
        "\n",
        "# Create an animation\n",
        "ani = animation.FuncAnimation(fig, update, frames=len(sun.positions), interval=50, blit=True)\n",
        "\n",
        "# Show the plot\n",
        "plt.title('Simulation of Sun, Earth, and Venus')\n",
        "plt.xlabel('Distance (in pixels)')\n",
        "plt.ylabel('Distance (in pixels)')\n",
        "plt.legend()\n",
        "plt.show()"
      ]
    },
    {
      "cell_type": "markdown",
      "id": "ef233d63",
      "metadata": {
        "id": "ef233d63"
      },
      "source": [
        "# Code Discussion"
      ]
    },
    {
      "cell_type": "markdown",
      "id": "a5a051d0",
      "metadata": {
        "id": "a5a051d0"
      },
      "source": [
        "### 1. Imports and Constants\n",
        "The code begins by importing the necessary packages, including math, numpy, and matplotlib for mathematical operations and plotting.\n",
        "It defines the gravitational constant $G$ and a scaling factor to convert astronomical units (AU) into pixels for visualization.\n",
        "\n",
        "### 2. Body Class\n",
        "A Body class is created to represent a celestial body, with attributes for its name, mass, position ($p_x$, $p_y$), velocity ($v_x$, $v_y$), and color for plotting.\n",
        "The attraction method calculates the gravitational force exerted by another body. It computes the distance and direction to the other body, and then calculates the force components $f_x$ and $f_y$.\n",
        "\n",
        "### 3. Updating Velocities and Positions\n",
        "The update_velocities_and_positions function computes the net gravitational forces acting on each body from all other bodies.\n",
        "For each body, the function updates its velocity based on the net force (using\n",
        "$F=ma$) and then updates its position based on this velocity.\n",
        "\n",
        "### 4. Simulation Function\n",
        "The simulate function runs the simulation for a specified number of days. It employs a time step of one day (86400 seconds) to update the positions and velocities of the bodies iteratively.\n",
        "\n",
        "### 5. Creating Celestial Bodies\n",
        "The Sun, Earth, and Venus are instantiated as Body objects with their respective masses, initial positions, and velocities.\n",
        "\n",
        "### 6. Plotting Setup\n",
        "A plot is set up using matplotlib to visualize the simulation. The axis limits are scaled to fit the simulation, and the background color is set to black for better visibility of the celestial bodies.\n",
        "\n",
        "### 7. Animation\n",
        "An animation function is defined to update the plot frame-by-frame, reflecting the positions of the Sun, Earth, and Venus over time.\n",
        "The FuncAnimation from matplotlib creates a dynamic visualization of the simulation, showing how the positions of the bodies change with respect to each other over the specified time.\n",
        "\n",
        "### 8. Execution\n",
        "Finally, the simulation is executed for 365 days, and the resulting animation is displayed with titles and labels to enhance user understanding.\n",
        "\n",
        "### Summary\n",
        "This code is an implementation of a simple n-body simulation that demonstrates the gravitational interactions of celestial bodies. It provides a visual representation of the orbits of the Sun, Earth, and Venus based on Newtonian mechanics. The approach highlights the fundamental principles of gravity and motion, allowing for an educational exploration of celestial mechanics."
      ]
    },
    {
      "cell_type": "markdown",
      "id": "42c13dc6",
      "metadata": {
        "id": "42c13dc6"
      },
      "source": [
        "# Learned Lessons"
      ]
    },
    {
      "cell_type": "markdown",
      "id": "02039c0b",
      "metadata": {
        "id": "02039c0b"
      },
      "source": [
        "Each simulation step requires calculating $N * (N-1)$ distances and attractions, so the time complexity is $O(N^2)$. On a laptop or desktop, the display will be visible changing up to around 20 objects. More efficient coding would let us handle more objects; we could rewrite the calculations in C or parallelize the code to divide the work in each step among multiple threads or CPUs. You could also adjust the timestep dynamically: if objects are far apart, a larger timestep would introduce less error, and the timestep could be shortened when objects are interacting more closely.\n",
        "\n",
        "These techniques would increase our practical limit to hundreds $(10^3)$ or thousands $(10^4)$ of objects, but this means we can’t simulate even a small galaxy, which might contain tens of millions of stars $(10^7)$. (Our galaxy is estimated to have around 200 billion stars, $2 \\times 10^{11}$.) Entirely different approaches need to be taken for that problem size; for example, the attraction of distant particles is approximated and only nearby particles are calculated exactly. The references include a survey by Drs. Trenti and Hut that describes the techniques used for larger simulations."
      ]
    },
    {
      "cell_type": "markdown",
      "id": "34b43077",
      "metadata": {
        "id": "34b43077"
      },
      "source": [
        "# References"
      ]
    },
    {
      "cell_type": "markdown",
      "id": "ccabfa98",
      "metadata": {
        "id": "ccabfa98"
      },
      "source": [
        "- http://www.scholarpedia.org/article/N-body_simulations This survey, by Dr. Michele Trenti and Dr. Piet Hut, describes how the serious scientific N-body simulators work, using trees to approximate the attraction at great distances. Such programs are able to run in O(N log(N)) time.\n",
        "- http://ssd.jpl.nasa.gov/horizons.cgi NASA’s Jet Propulsion Laboratory provides a system called HORIZONS that returns accurate positions and velocities for objects within the solar system. In the example code, the values used are only rough approximations; the orbital distances and planet velocities are set to the mean distances and their relative positions don’t correspond to any actual point in time – but they produce reasonable output.\n",
        "- https://fiftyexamples.readthedocs.io/en/latest/gravity.html Original post of discussion and code"
      ]
    }
  ],
  "metadata": {
    "kernelspec": {
      "display_name": "Python 3 (ipykernel)",
      "language": "python",
      "name": "python3"
    },
    "language_info": {
      "codemirror_mode": {
        "name": "ipython",
        "version": 3
      },
      "file_extension": ".py",
      "mimetype": "text/x-python",
      "name": "python",
      "nbconvert_exporter": "python",
      "pygments_lexer": "ipython3",
      "version": "3.8.10"
    },
    "colab": {
      "provenance": []
    }
  },
  "nbformat": 4,
  "nbformat_minor": 5
}