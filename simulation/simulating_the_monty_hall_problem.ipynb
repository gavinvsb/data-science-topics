{
 "cells": [
  {
   "cell_type": "markdown",
   "id": "83003207",
   "metadata": {},
   "source": [
    "# Simulating The Monty Hall Problem\n",
    "\n",
    "The Monty Hall problem is a well-known puzzle in probability derived from an American game show, Let’s Make a Deal. (The original 1960s-era show was hosted by Monty Hall, giving this puzzle its name.) Intuition leads many people to get the puzzle wrong, and when the Monty Hall problem is presented in a newspaper or discussion list, it often leads to a lengthy argument in letters-to-the-editor and on message boards."
   ]
  },
  {
   "cell_type": "markdown",
   "id": "0792affa",
   "metadata": {},
   "source": [
    "The game is played like this:\n",
    "\n",
    "- The game show set has three doors. A prize such as a car or vacation is behind one door, and the other two doors hide a valueless prize called a Zonk; in most discussions of the problem, the Zonk is a goat.\n",
    "- The contestant chooses one door. We’ll assume the contestant has no inside knowledge of which door holds the prize, so the contestant will just make a random choice.\n",
    "- The smiling host Monty Hall opens one of the other doors, always choosing one that shows a goat, and always offers the contestant a chance to switch their choice to the remaining unopened door.\n",
    "- The contestant either chooses to switch doors, or opts to stick with the first choice. Monty calls for the remaining two doors to open, and the contestant wins whatever is behind their chosen door.\n",
    "\n",
    "Let’s say a hypothetical contestant chooses door #2. Monty might then open door #1 and offer the chance to switch to door #3. The contestant switches to door #3, and then we see if the prize is behind #3.\n",
    "\n",
    "The puzzle is: what is the best strategy for the contestant? Does switching increase the chance of winning the car, decrease it, or make no difference?\n",
    "\n",
    "The best strategy is to make the switch. It’s possible to analyze the situation and figure this out, but instead we’ll tackle it by simulating thousands of games and measuring how often each strategy ends up winning."
   ]
  },
  {
   "cell_type": "markdown",
   "id": "a64506a2",
   "metadata": {},
   "source": [
    "# Approach"
   ]
  },
  {
   "cell_type": "markdown",
   "id": "dd936432",
   "metadata": {},
   "source": [
    "Simulating one run of the game is straightforward:\n",
    "\n",
    "- We will write a simulate() function that uses Python’s random module to pick which door hides the prize, the contestant’s initial choice, and which doors Monty chooses to open. An input parameter controls whether the contestant chooses to switch, and simulate() will then return a Boolean telling whether the contestant’s final choice was the winning door.\n",
    "\n",
    "- Part of the reason the problem fools so many people is that in the three-door case the probabilities involved are 1/3 and 1/2, and it’s easy to get confused about which probability is relevant. Considering the same game with many more doors makes reasoning about the problem much clearer, so we’ll make the number of doors a configurable parameter of the simulation script.\n"
   ]
  },
  {
   "cell_type": "markdown",
   "id": "022d1aa4",
   "metadata": {},
   "source": [
    "# Solution"
   ]
  },
  {
   "cell_type": "code",
   "execution_count": 25,
   "id": "9d0531ea",
   "metadata": {},
   "outputs": [],
   "source": [
    "# Import package\n",
    "import random"
   ]
  },
  {
   "cell_type": "code",
   "execution_count": 26,
   "id": "c5256912",
   "metadata": {},
   "outputs": [],
   "source": [
    "def simulate(num_doors, switch, verbose):\n",
    "    \"\"\"(int, bool): bool\n",
    "\n",
    "    Carry out the game for one contestant.  If 'switch' is True,\n",
    "    the contestant will switch their chosen door when offered the chance.\n",
    "    Returns a Boolean value telling whether the simulated contestant won.\n",
    "    \"\"\"\n",
    "\n",
    "    # Doors are numbered from 0 up to num_doors-1 (inclusive).\n",
    "\n",
    "    # Randomly choose the door hiding the prize.\n",
    "    winning_door = random.randint(0, num_doors-1)\n",
    "    if verbose:\n",
    "        print('Prize is behind door {}'.format(winning_door+1))\n",
    "\n",
    "    # The contestant picks a random door, too.\n",
    "    choice = random.randint(0, num_doors-1)\n",
    "    if verbose:\n",
    "        print('Contestant chooses door {}'.format(choice+1))\n",
    "\n",
    "    # The host opens all but two doors.\n",
    "    closed_doors = list(range(num_doors))\n",
    "    while len(closed_doors) > 2:\n",
    "        # Randomly choose a door to open.\n",
    "        door_to_remove = random.choice(closed_doors)\n",
    "\n",
    "        # The host will never open the winning door, or the door\n",
    "        # chosen by the contestant.\n",
    "        if door_to_remove == winning_door or door_to_remove == choice:\n",
    "            continue\n",
    "\n",
    "        # Remove the door from the list of closed doors.\n",
    "        closed_doors.remove(door_to_remove)\n",
    "        if verbose:\n",
    "            print('Host opens door {}'.format(door_to_remove+1))\n",
    "\n",
    "    # There are always two doors remaining.\n",
    "    assert len(closed_doors) == 2\n",
    "\n",
    "    # Does the contestant want to switch their choice?\n",
    "    if switch:\n",
    "        if verbose:\n",
    "            print('Contestant switches from door {} '.format(choice+1), end='')\n",
    "\n",
    "        # There are two closed doors left.  The contestant will never\n",
    "        # choose the same door, so we'll remove that door as a choice.\n",
    "        available_doors = list(closed_doors) # Make a copy of the list.\n",
    "        available_doors.remove(choice)\n",
    "\n",
    "        # Change choice to the only door available.\n",
    "        choice = available_doors.pop()\n",
    "        if verbose:\n",
    "            print('to {}'.format(choice+1))\n",
    "\n",
    "    # Did the contestant win?\n",
    "    won = (choice == winning_door)\n",
    "    if verbose:\n",
    "        if won:\n",
    "            print('Contestant WON', end='\\n\\n')\n",
    "        else:\n",
    "            print('Contestant LOST', end='\\n\\n')\n",
    "    return won"
   ]
  },
  {
   "cell_type": "code",
   "execution_count": 28,
   "id": "5ca7ceaa",
   "metadata": {},
   "outputs": [
    {
     "name": "stdout",
     "output_type": "stream",
     "text": [
      "    Switching won  6617 times out of 10000 (66.17% of the time)\n",
      "Not switching won  3296 times out of 10000 (32.96% of the time)\n"
     ]
    }
   ],
   "source": [
    "trials = 10000\n",
    "verbose = False\n",
    "doors = 3\n",
    "\n",
    "# Carry out the trials\n",
    "winning_non_switchers = 0\n",
    "winning_switchers = 0\n",
    "for i in range(trials):\n",
    "    # First, do a trial where the contestant never switches.\n",
    "    won = simulate(doors, switch = False, verbose = verbose)\n",
    "    if won:\n",
    "        winning_non_switchers += 1\n",
    "\n",
    "    # Next, try one where the contestant switches.\n",
    "    won = simulate(doors, switch = True, verbose = verbose)\n",
    "    if won:\n",
    "        winning_switchers += 1\n",
    "\n",
    "print('    Switching won {0:5} times out of {1} ({2}% of the time)'.format(\n",
    "        winning_switchers, trials,\n",
    "        (winning_switchers / trials * 100 ) ))\n",
    "print('Not switching won {0:5} times out of {1} ({2}% of the time)'.format(\n",
    "        winning_non_switchers, trials,\n",
    "        (winning_non_switchers / trials * 100 ) ))"
   ]
  },
  {
   "cell_type": "markdown",
   "id": "0c341299",
   "metadata": {},
   "source": [
    "# Lessons Learned"
   ]
  },
  {
   "cell_type": "markdown",
   "id": "454ea520",
   "metadata": {},
   "source": [
    "This approach to answering a question, where we randomly generate many possible inputs, calculate the outcomes, and summarize the results, is called Monte Carlo simulation and has a long history, having been first developed in the 1940s by mathematicians working on the Manhattan Project to build an atomic bomb.\n",
    "\n",
    "In the case of the Monty Hall problem, the simulation is straightforward to program and we can figure out an analytical result, so it’s easy to inspect the output and verify that the program is correct. Often, though, simulations are for attacking problems too complicated to be solved beforehand and then checking for correctness is much harder. The programmers will need to carefully validate their code by unit-testing the simulation’s internal functions and adding checks for internal correctness. monty-hall.py does this in a small way with an assert statement that will raise an exception if the number of closed doors is not equal to 2, which would indicate some sort of failure in the simulate() function’s logic or input data. We could potentially add more such checks:\n",
    "\n",
    "- assert 0 <= winning_door < num_doors, 'Winning door is not a legal door'\n",
    "- assert 0 <= choice < num_doors, 'Contestant choice is not a legal door'\n",
    "\n",
    "In our simple simulation, these assertions are never going to fail, but perhaps we might make changes to simulate() that make the function incorrect, or perhaps someday a bug in Python’s random module will come to light.\n"
   ]
  },
  {
   "cell_type": "markdown",
   "id": "88137cf4",
   "metadata": {},
   "source": [
    "# References"
   ]
  },
  {
   "cell_type": "markdown",
   "id": "73e7e94b",
   "metadata": {},
   "source": [
    "- http://en.wikipedia.org/wiki/Monty_Hall_problem\n",
    "    Discusses the history of the problem and various approaches to solving it.\n",
    "\n",
    "- http://library.lanl.gov/cgi-bin/getfile?00326867.pdf “Stan Ulam, John von Neumann, and the Monte Carlo Method” (1987), by Roger Eckhardt, is a discussion of the very first Monte Carlo simulation and some of the mathematical problems encountered while implementing it. This first simulation modelled neutrons diffusing through fissionable material in an effort to determine whether a chain reaction would occur. (The PDF also features a discussion of how random number generators work, written by Tony Warnock.)\n",
    "\n",
    "- http://www.youtube.com/watch?v=0W978thuweY A condensed episode of an episode of the original game show, showing Monty Hall’s quick wit in action. Notice that the original game is more complicated than the Monty Hall puzzle as described above because Monty has many more actions available to him: he can offer the choice of an unknown prize or an unknown amount of cash, or suggest trading in what you’ve already won for a different unknown prize.\n",
    "    \n",
    "- https://fiftyexamples.readthedocs.io/en/latest/monty-hall.html Original post of discussion and code\n"
   ]
  }
 ],
 "metadata": {
  "kernelspec": {
   "display_name": "Python 3 (ipykernel)",
   "language": "python",
   "name": "python3"
  },
  "language_info": {
   "codemirror_mode": {
    "name": "ipython",
    "version": 3
   },
   "file_extension": ".py",
   "mimetype": "text/x-python",
   "name": "python",
   "nbconvert_exporter": "python",
   "pygments_lexer": "ipython3",
   "version": "3.8.10"
  }
 },
 "nbformat": 4,
 "nbformat_minor": 5
}
